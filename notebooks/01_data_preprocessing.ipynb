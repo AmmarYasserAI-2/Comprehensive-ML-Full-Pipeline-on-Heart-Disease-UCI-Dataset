{
 "cells": [
  {
   "cell_type": "code",
   "execution_count": 40,
   "id": "fd2182f1",
   "metadata": {},
   "outputs": [],
   "source": [
    "import numpy as np\n",
    "import pandas as pd\n",
    "from sklearn.preprocessing import StandardScaler, MinMaxScaler\n",
    "import pygwalker as pg"
   ]
  },
  {
   "cell_type": "code",
   "execution_count": 41,
   "id": "6e5a418f",
   "metadata": {},
   "outputs": [
    {
     "data": {
      "text/html": [
       "<div>\n",
       "<style scoped>\n",
       "    .dataframe tbody tr th:only-of-type {\n",
       "        vertical-align: middle;\n",
       "    }\n",
       "\n",
       "    .dataframe tbody tr th {\n",
       "        vertical-align: top;\n",
       "    }\n",
       "\n",
       "    .dataframe thead th {\n",
       "        text-align: right;\n",
       "    }\n",
       "</style>\n",
       "<table border=\"1\" class=\"dataframe\">\n",
       "  <thead>\n",
       "    <tr style=\"text-align: right;\">\n",
       "      <th></th>\n",
       "      <th>age</th>\n",
       "      <th>sex</th>\n",
       "      <th>cp</th>\n",
       "      <th>trestbps</th>\n",
       "      <th>chol</th>\n",
       "      <th>fbs</th>\n",
       "      <th>restecg</th>\n",
       "      <th>thalach</th>\n",
       "      <th>exang</th>\n",
       "      <th>oldpeak</th>\n",
       "      <th>slope</th>\n",
       "      <th>ca</th>\n",
       "      <th>thal</th>\n",
       "      <th>target</th>\n",
       "    </tr>\n",
       "  </thead>\n",
       "  <tbody>\n",
       "    <tr>\n",
       "      <th>0</th>\n",
       "      <td>63.0</td>\n",
       "      <td>1.0</td>\n",
       "      <td>1.0</td>\n",
       "      <td>145.0</td>\n",
       "      <td>233.0</td>\n",
       "      <td>1.0</td>\n",
       "      <td>2.0</td>\n",
       "      <td>150.0</td>\n",
       "      <td>0.0</td>\n",
       "      <td>2.3</td>\n",
       "      <td>3.0</td>\n",
       "      <td>0.0</td>\n",
       "      <td>6.0</td>\n",
       "      <td>0</td>\n",
       "    </tr>\n",
       "    <tr>\n",
       "      <th>1</th>\n",
       "      <td>67.0</td>\n",
       "      <td>1.0</td>\n",
       "      <td>4.0</td>\n",
       "      <td>160.0</td>\n",
       "      <td>286.0</td>\n",
       "      <td>0.0</td>\n",
       "      <td>2.0</td>\n",
       "      <td>108.0</td>\n",
       "      <td>1.0</td>\n",
       "      <td>1.5</td>\n",
       "      <td>2.0</td>\n",
       "      <td>3.0</td>\n",
       "      <td>3.0</td>\n",
       "      <td>2</td>\n",
       "    </tr>\n",
       "    <tr>\n",
       "      <th>2</th>\n",
       "      <td>67.0</td>\n",
       "      <td>1.0</td>\n",
       "      <td>4.0</td>\n",
       "      <td>120.0</td>\n",
       "      <td>229.0</td>\n",
       "      <td>0.0</td>\n",
       "      <td>2.0</td>\n",
       "      <td>129.0</td>\n",
       "      <td>1.0</td>\n",
       "      <td>2.6</td>\n",
       "      <td>2.0</td>\n",
       "      <td>2.0</td>\n",
       "      <td>7.0</td>\n",
       "      <td>1</td>\n",
       "    </tr>\n",
       "    <tr>\n",
       "      <th>3</th>\n",
       "      <td>37.0</td>\n",
       "      <td>1.0</td>\n",
       "      <td>3.0</td>\n",
       "      <td>130.0</td>\n",
       "      <td>250.0</td>\n",
       "      <td>0.0</td>\n",
       "      <td>0.0</td>\n",
       "      <td>187.0</td>\n",
       "      <td>0.0</td>\n",
       "      <td>3.5</td>\n",
       "      <td>3.0</td>\n",
       "      <td>0.0</td>\n",
       "      <td>3.0</td>\n",
       "      <td>0</td>\n",
       "    </tr>\n",
       "    <tr>\n",
       "      <th>4</th>\n",
       "      <td>41.0</td>\n",
       "      <td>0.0</td>\n",
       "      <td>2.0</td>\n",
       "      <td>130.0</td>\n",
       "      <td>204.0</td>\n",
       "      <td>0.0</td>\n",
       "      <td>2.0</td>\n",
       "      <td>172.0</td>\n",
       "      <td>0.0</td>\n",
       "      <td>1.4</td>\n",
       "      <td>1.0</td>\n",
       "      <td>0.0</td>\n",
       "      <td>3.0</td>\n",
       "      <td>0</td>\n",
       "    </tr>\n",
       "  </tbody>\n",
       "</table>\n",
       "</div>"
      ],
      "text/plain": [
       "    age  sex   cp  trestbps   chol  fbs  restecg  thalach  exang  oldpeak  \\\n",
       "0  63.0  1.0  1.0     145.0  233.0  1.0      2.0    150.0    0.0      2.3   \n",
       "1  67.0  1.0  4.0     160.0  286.0  0.0      2.0    108.0    1.0      1.5   \n",
       "2  67.0  1.0  4.0     120.0  229.0  0.0      2.0    129.0    1.0      2.6   \n",
       "3  37.0  1.0  3.0     130.0  250.0  0.0      0.0    187.0    0.0      3.5   \n",
       "4  41.0  0.0  2.0     130.0  204.0  0.0      2.0    172.0    0.0      1.4   \n",
       "\n",
       "   slope   ca  thal  target  \n",
       "0    3.0  0.0   6.0       0  \n",
       "1    2.0  3.0   3.0       2  \n",
       "2    2.0  2.0   7.0       1  \n",
       "3    3.0  0.0   3.0       0  \n",
       "4    1.0  0.0   3.0       0  "
      ]
     },
     "execution_count": 41,
     "metadata": {},
     "output_type": "execute_result"
    }
   ],
   "source": [
    "# Define the column names from the documentation\n",
    "column_names = [\n",
    "    \"age\", \"sex\", \"cp\", \"trestbps\", \"chol\",\n",
    "    \"fbs\", \"restecg\", \"thalach\", \"exang\", \"oldpeak\",\n",
    "    \"slope\", \"ca\", \"thal\", \"target\"\n",
    " ]\n",
    "\n",
    "# Load directly from UCI URL\n",
    "url = \"https://archive.ics.uci.edu/ml/machine-learning-databases/heart-disease/processed.cleveland.data\"\n",
    "\n",
    "df_pre = pd.read_csv(url, names=column_names)\n",
    "\n",
    "# Replace '?' with NaN\n",
    "df_pre.replace(\"?\", pd.NA, inplace=True)\n",
    "\n",
    "# Convert all columns to numeric (auto-fixes columns with '?')\n",
    "df_pre = df_pre.apply(pd.to_numeric, errors='coerce')\n",
    "\n",
    "# Preview the data\n",
    "df_pre.head()"
   ]
  },
  {
   "cell_type": "markdown",
   "id": "dc5e3237",
   "metadata": {},
   "source": [
    "| Column Name | Data Type         | Description                                                    | Possible Values                                                                                  |\n",
    "| ----------- | ----------------- | -------------------------------------------------------------- | ------------------------------------------------------------------------------------------------ |\n",
    "| `age`       | Integer           | Age of the patient in years                                    | Example: 29, 45, 77                                                                              |\n",
    "| `sex`       | Categorical (int) | Sex of the patient                                             | 0 = female, 1 = male                                                                             |\n",
    "| `cp`        | Categorical (int) | Chest pain type                                                | 0 = typical angina<br>1 = atypical angina<br>2 = non-anginal pain<br>3 = asymptomatic            |\n",
    "| `trestbps`  | Integer           | Resting blood pressure (in mm Hg) on admission to the hospital | Example: 120, 140, 180                                                                           |\n",
    "| `chol`      | Integer           | Serum cholesterol in mg/dl                                     | Example: 200, 240                                                                                |\n",
    "| `fbs`       | Categorical (int) | Fasting blood sugar > 120 mg/dl                                | 0 = false, 1 = true                                                                              |\n",
    "| `restecg`   | Categorical (int) | Resting electrocardiographic results                           | 0 = normal<br>1 = ST-T wave abnormality<br>2 = probable or definite left ventricular hypertrophy |\n",
    "| `thalach`   | Integer           | Maximum heart rate achieved during exercise test               | Example: 150, 187                                                                                |\n",
    "| `exang`     | Categorical (int) | Exercise-induced angina                                        | 0 = no, 1 = yes                                                                                  |\n",
    "| `oldpeak`   | Float             | ST depression induced by exercise relative to rest             | Measured in depression units                                                                     |\n",
    "| `slope`     | Categorical (int) | The slope of the peak exercise ST segment                      | 0 = upsloping<br>1 = flat<br>2 = downsloping                                                     |\n",
    "| `ca`        | Categorical (int) | Number of major vessels (0–3) colored by fluoroscopy           | 0, 1, 2, 3 (can be missing in raw files)                                                         |\n",
    "| `thal`      | Categorical (int) | Thalassemia test result                                        | 3 = normal<br>6 = fixed defect<br>7 = reversible defect (can be missing in raw files)            |\n",
    "| `target`    | Integer           | Diagnosis of heart disease                                     | 0 = no disease<br>1-4 = presence of disease (will be binarized to 1 = has disease)                |\n"
   ]
  },
  {
   "cell_type": "code",
   "execution_count": 42,
   "id": "5fcc5ede",
   "metadata": {},
   "outputs": [
    {
     "data": {
      "text/plain": [
       "target\n",
       "0    164\n",
       "1     55\n",
       "2     36\n",
       "3     35\n",
       "4     13\n",
       "Name: count, dtype: int64"
      ]
     },
     "execution_count": 42,
     "metadata": {},
     "output_type": "execute_result"
    }
   ],
   "source": [
    "df_pre['target'].value_counts()"
   ]
  },
  {
   "cell_type": "markdown",
   "id": "f35fc7d9",
   "metadata": {},
   "source": [
    "##### 'target' Column values meaning:\n",
    "| Value | Meaning                           |\n",
    "| ----- | --------------------------------- |\n",
    "| **0** | No heart disease                 |\n",
    "| **1** | Mild heart disease              |\n",
    "| **2** | Moderate heart disease        |\n",
    "| **3** | Serious heart disease           |\n",
    "| **4** | Very serious heart disease  |\n"
   ]
  },
  {
   "cell_type": "markdown",
   "id": "16aca176",
   "metadata": {},
   "source": [
    "#### I'm going to convert them into binary (0,1)"
   ]
  },
  {
   "cell_type": "code",
   "execution_count": 43,
   "id": "23ba300a",
   "metadata": {},
   "outputs": [],
   "source": [
    "# Convert target to binary\n",
    "df_pre[\"target\"] = df_pre[\"target\"].apply(lambda x: 1 if x > 0 else 0)"
   ]
  },
  {
   "cell_type": "code",
   "execution_count": 44,
   "id": "fd0114b8",
   "metadata": {},
   "outputs": [
    {
     "data": {
      "text/plain": [
       "target\n",
       "0    164\n",
       "1    139\n",
       "Name: count, dtype: int64"
      ]
     },
     "execution_count": 44,
     "metadata": {},
     "output_type": "execute_result"
    }
   ],
   "source": [
    "df_pre['target'].value_counts()"
   ]
  },
  {
   "cell_type": "code",
   "execution_count": 45,
   "id": "45f5a47f",
   "metadata": {},
   "outputs": [],
   "source": [
    "df_pre.dropna(inplace=True)"
   ]
  },
  {
   "cell_type": "code",
   "execution_count": 46,
   "id": "a4b98da2",
   "metadata": {},
   "outputs": [
    {
     "data": {
      "text/plain": [
       "age         0\n",
       "sex         0\n",
       "cp          0\n",
       "trestbps    0\n",
       "chol        0\n",
       "fbs         0\n",
       "restecg     0\n",
       "thalach     0\n",
       "exang       0\n",
       "oldpeak     0\n",
       "slope       0\n",
       "ca          0\n",
       "thal        0\n",
       "target      0\n",
       "dtype: int64"
      ]
     },
     "execution_count": 46,
     "metadata": {},
     "output_type": "execute_result"
    }
   ],
   "source": [
    "df_pre.isna().sum()"
   ]
  },
  {
   "cell_type": "code",
   "execution_count": 49,
   "id": "327e667d",
   "metadata": {},
   "outputs": [
    {
     "ename": "",
     "output_type": "error",
     "traceback": [
      "\u001b[1;31mThe Kernel crashed while executing code in the current cell or a previous cell. \n",
      "\u001b[1;31mPlease review the code in the cell(s) to identify a possible cause of the failure. \n",
      "\u001b[1;31mClick <a href='https://aka.ms/vscodeJupyterKernelCrash'>here</a> for more info. \n",
      "\u001b[1;31mView Jupyter <a href='command:jupyter.viewOutput'>log</a> for further details."
     ]
    }
   ],
   "source": [
    "pg.walk(df_pre)"
   ]
  },
  {
   "cell_type": "code",
   "execution_count": null,
   "id": "fee9754a",
   "metadata": {},
   "outputs": [
    {
     "data": {
      "text/html": [
       "<div>\n",
       "<style scoped>\n",
       "    .dataframe tbody tr th:only-of-type {\n",
       "        vertical-align: middle;\n",
       "    }\n",
       "\n",
       "    .dataframe tbody tr th {\n",
       "        vertical-align: top;\n",
       "    }\n",
       "\n",
       "    .dataframe thead th {\n",
       "        text-align: right;\n",
       "    }\n",
       "</style>\n",
       "<table border=\"1\" class=\"dataframe\">\n",
       "  <thead>\n",
       "    <tr style=\"text-align: right;\">\n",
       "      <th></th>\n",
       "      <th>age</th>\n",
       "      <th>sex</th>\n",
       "      <th>cp</th>\n",
       "      <th>trestbps</th>\n",
       "      <th>chol</th>\n",
       "      <th>fbs</th>\n",
       "      <th>restecg</th>\n",
       "      <th>thalach</th>\n",
       "      <th>exang</th>\n",
       "      <th>oldpeak</th>\n",
       "      <th>slope</th>\n",
       "      <th>ca</th>\n",
       "      <th>thal</th>\n",
       "      <th>target</th>\n",
       "    </tr>\n",
       "  </thead>\n",
       "  <tbody>\n",
       "    <tr>\n",
       "      <th>0</th>\n",
       "      <td>0.936181</td>\n",
       "      <td>0.691095</td>\n",
       "      <td>-2.240629</td>\n",
       "      <td>0.750380</td>\n",
       "      <td>-0.276443</td>\n",
       "      <td>2.430427</td>\n",
       "      <td>1.010199</td>\n",
       "      <td>0.017494</td>\n",
       "      <td>-0.696419</td>\n",
       "      <td>1.068965</td>\n",
       "      <td>2.264145</td>\n",
       "      <td>-0.721976</td>\n",
       "      <td>0.655877</td>\n",
       "      <td>0</td>\n",
       "    </tr>\n",
       "    <tr>\n",
       "      <th>1</th>\n",
       "      <td>1.378929</td>\n",
       "      <td>0.691095</td>\n",
       "      <td>0.873880</td>\n",
       "      <td>1.596266</td>\n",
       "      <td>0.744555</td>\n",
       "      <td>-0.411450</td>\n",
       "      <td>1.010199</td>\n",
       "      <td>-1.816334</td>\n",
       "      <td>1.435916</td>\n",
       "      <td>0.381773</td>\n",
       "      <td>0.643781</td>\n",
       "      <td>2.478425</td>\n",
       "      <td>-0.894220</td>\n",
       "      <td>1</td>\n",
       "    </tr>\n",
       "    <tr>\n",
       "      <th>2</th>\n",
       "      <td>1.378929</td>\n",
       "      <td>0.691095</td>\n",
       "      <td>0.873880</td>\n",
       "      <td>-0.659431</td>\n",
       "      <td>-0.353500</td>\n",
       "      <td>-0.411450</td>\n",
       "      <td>1.010199</td>\n",
       "      <td>-0.899420</td>\n",
       "      <td>1.435916</td>\n",
       "      <td>1.326662</td>\n",
       "      <td>0.643781</td>\n",
       "      <td>1.411625</td>\n",
       "      <td>1.172577</td>\n",
       "      <td>1</td>\n",
       "    </tr>\n",
       "    <tr>\n",
       "      <th>3</th>\n",
       "      <td>-1.941680</td>\n",
       "      <td>0.691095</td>\n",
       "      <td>-0.164289</td>\n",
       "      <td>-0.095506</td>\n",
       "      <td>0.051047</td>\n",
       "      <td>-0.411450</td>\n",
       "      <td>-1.003419</td>\n",
       "      <td>1.633010</td>\n",
       "      <td>-0.696419</td>\n",
       "      <td>2.099753</td>\n",
       "      <td>2.264145</td>\n",
       "      <td>-0.721976</td>\n",
       "      <td>-0.894220</td>\n",
       "      <td>0</td>\n",
       "    </tr>\n",
       "    <tr>\n",
       "      <th>4</th>\n",
       "      <td>-1.498933</td>\n",
       "      <td>-1.446980</td>\n",
       "      <td>-1.202459</td>\n",
       "      <td>-0.095506</td>\n",
       "      <td>-0.835103</td>\n",
       "      <td>-0.411450</td>\n",
       "      <td>1.010199</td>\n",
       "      <td>0.978071</td>\n",
       "      <td>-0.696419</td>\n",
       "      <td>0.295874</td>\n",
       "      <td>-0.976583</td>\n",
       "      <td>-0.721976</td>\n",
       "      <td>-0.894220</td>\n",
       "      <td>0</td>\n",
       "    </tr>\n",
       "  </tbody>\n",
       "</table>\n",
       "</div>"
      ],
      "text/plain": [
       "        age       sex        cp  trestbps      chol       fbs   restecg  \\\n",
       "0  0.936181  0.691095 -2.240629  0.750380 -0.276443  2.430427  1.010199   \n",
       "1  1.378929  0.691095  0.873880  1.596266  0.744555 -0.411450  1.010199   \n",
       "2  1.378929  0.691095  0.873880 -0.659431 -0.353500 -0.411450  1.010199   \n",
       "3 -1.941680  0.691095 -0.164289 -0.095506  0.051047 -0.411450 -1.003419   \n",
       "4 -1.498933 -1.446980 -1.202459 -0.095506 -0.835103 -0.411450  1.010199   \n",
       "\n",
       "    thalach     exang   oldpeak     slope        ca      thal  target  \n",
       "0  0.017494 -0.696419  1.068965  2.264145 -0.721976  0.655877       0  \n",
       "1 -1.816334  1.435916  0.381773  0.643781  2.478425 -0.894220       1  \n",
       "2 -0.899420  1.435916  1.326662  0.643781  1.411625  1.172577       1  \n",
       "3  1.633010 -0.696419  2.099753  2.264145 -0.721976 -0.894220       0  \n",
       "4  0.978071 -0.696419  0.295874 -0.976583 -0.721976 -0.894220       0  "
      ]
     },
     "execution_count": 47,
     "metadata": {},
     "output_type": "execute_result"
    }
   ],
   "source": [
    "scaler = StandardScaler()\n",
    "\n",
    "features = df.drop('target', axis=1)\n",
    "\n",
    "scaled_features = scaler.fit_transform(features)\n",
    "\n",
    "df_scaled = pd.DataFrame(scaled_features, columns=features.columns)\n",
    "\n",
    "df_scaled['target'] = df['target'].values\n",
    "\n",
    "df_scaled.head()"
   ]
  },
  {
   "cell_type": "code",
   "execution_count": null,
   "id": "6335367d",
   "metadata": {},
   "outputs": [],
   "source": []
  }
 ],
 "metadata": {
  "kernelspec": {
   "display_name": "Python 3",
   "language": "python",
   "name": "python3"
  },
  "language_info": {
   "codemirror_mode": {
    "name": "ipython",
    "version": 3
   },
   "file_extension": ".py",
   "mimetype": "text/x-python",
   "name": "python",
   "nbconvert_exporter": "python",
   "pygments_lexer": "ipython3",
   "version": "3.11.9"
  }
 },
 "nbformat": 4,
 "nbformat_minor": 5
}
